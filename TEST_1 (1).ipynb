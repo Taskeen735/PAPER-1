{
  "nbformat": 4,
  "nbformat_minor": 0,
  "metadata": {
    "colab": {
      "provenance": []
    },
    "kernelspec": {
      "name": "python3",
      "display_name": "Python 3"
    },
    "language_info": {
      "name": "python"
    }
  },
  "cells": [
    {
      "cell_type": "code",
      "execution_count": null,
      "metadata": {
        "id": "QDw6lXGj3Jn3"
      },
      "outputs": [],
      "source": []
    },
    {
      "cell_type": "markdown",
      "source": [
        "#PYTHON BASIC QUESTIONS\n"
      ],
      "metadata": {
        "id": "SbaAy3kh3OZZ"
      }
    },
    {
      "cell_type": "markdown",
      "source": [],
      "metadata": {
        "id": "fTaskzQFFaw6"
      }
    },
    {
      "cell_type": "markdown",
      "source": [
        "\n",
        "\n",
        "1. What is python , and why is it popolar ?\n",
        "  *Python is a computer language that is easy to use and understand that helps us to tell the computer what to do . It is a interpreted general purpose programming language.\n",
        "\n",
        "  * It is widely used because of the following reasons :\n",
        "  1.Easy to learn and use .\n",
        "  2.Powerful .\n",
        "  3.Huge number of libraries.\n",
        "  4.Used by top companies like google , meta , etc.\n",
        "\n",
        "  2.What is an interpreter in Python ?\n",
        "    *It is  an programm in python that executes the code step by step and shows the result immediately .\n",
        "\n",
        "  3. What are pre-defined keywords in Python ?\n",
        "     *Keywords are special words that are reserved by Python. we cannot use them as variable names because they have special meaning in the language's syntax. For eg false , true , import , etc.\n",
        "\n",
        "  4. Can keywords be used as variable names .\n",
        "    *No , keywords cannot be used as variables name . Because keywords have special meaning in pyrhon language .\n",
        "\n",
        "  5.What is mutability in Python ?\n",
        "    *mutability refers to an object's ability to be modified after its creation. Mutable objects can have their values changed without creating a new object, while immutable objects cannot.\n",
        "\n",
        "  6. Why are lists mutable, but tuples are immutable ?\n",
        "     *tuples use parentheses instead of square brackets, and the items in tuples cannot be modified (but the items in lists can be modified).\n",
        "  \n",
        "  7.What is the difference between “==” and “is” operators in Python ?\n",
        "    *Both used for comparison but they have their own purposes.\n",
        "    == (Equality Operator):\n",
        "    *Compares the values of two objects.\n",
        "    *Checks if the content of the objects are the same.\n",
        "    *Returns True if the values are equal, otherwise False.\n",
        "\n",
        "    is (Identity Operator):\n",
        "    *Compares the identity of two objects.\n",
        "    *Checks if two variables refer to the same object in memory.\n",
        "    *Returns True if they are the same object, otherwise False.\n",
        "\n",
        "    8.What are logical operators in Python ?\n",
        "      *Python's logical operators are used to combine or modify boolean expressions, resulting in a final boolean value of either True or False. There are three main logical operators: and , or , not .\n",
        "\n",
        "    9. What is type casting in Python ?\n",
        "       *Type casting, also known as type conversion, is the process of changing a variable's data type to another. It is of mainly two types: implicit and explicit.\n",
        "      \n",
        "    10.What is the difference between implicit and explicit type casting?\n",
        "       * Implicit - automatic by interpreter , it has less control , it has less chances of data loss , it has no specific functions.\n",
        "\n",
        "       *Explicit - manual by programmer , it has more control , possibility of data loss, it has specific functions like int(),float().\n",
        "\n",
        "    11.What is the purpose of conditional statements in Python ?\n",
        "      *They are used to execute certain blocks of code based on specific conditions whether the condition is ture or flase . In other words , it allow programms to make choice based on different types of conditions.\n",
        "\n",
        "    12.How does the elif statement work ?\n",
        "       *The elif statement in Python is used to check multiple conditions sequentially after an initial if statement. It stands for \"else if\" and allows you to add more conditional checks to your code.\n",
        "\n",
        "    13.What is the difference between for and while loops ?\n",
        "      *The for and while loops are both used for iteration in Python, but they differ in how they control the flow of execution.\n",
        "      For loop :\n",
        "     * Iterates over a sequence (such as a list, tuple, string, or range) or other iterable objects.\n",
        "    \n",
        "     *Often used for iterating through elements of a collection.\n",
        "\n",
        "      While loops :          \n",
        "     * Repeatedly executes a block of code as long as a specified condition is true.\n",
        "     * The number of iterations is not known in advance and depends on the *condition.\n",
        "      Often used when the number of iterations depends on a dynamic condition.\n",
        "\n",
        "  14. Describe a scenario where a while loop is more suitable than a for loop.\n",
        "       *for loop is generally used when the number of iterations is known beforehand , and a while loop is used where iterations is not predtermined and depends on dynamic condition.]"
      ],
      "metadata": {
        "id": "XuttT4lM3ZDE"
      }
    },
    {
      "cell_type": "markdown",
      "source": [],
      "metadata": {
        "id": "y4SaESIyGWkj"
      }
    },
    {
      "cell_type": "code",
      "source": [
        "# Practical Questions\n"
      ],
      "metadata": {
        "id": "yJ04E0YvAzrq"
      },
      "execution_count": null,
      "outputs": []
    },
    {
      "cell_type": "markdown",
      "source": [],
      "metadata": {
        "id": "N8pWEv6WNkFC"
      }
    },
    {
      "cell_type": "markdown",
      "source": [
        "1.Write a Python program to print \"Hello, World!"
      ],
      "metadata": {
        "id": "_jhrSdcsNo2d"
      }
    },
    {
      "cell_type": "code",
      "source": [
        "print(\"Hello,World!\")"
      ],
      "metadata": {
        "colab": {
          "base_uri": "https://localhost:8080/"
        },
        "id": "ydC36OJLONit",
        "outputId": "a22e499e-ac14-4351-ac34-8e32d13e3293"
      },
      "execution_count": null,
      "outputs": [
        {
          "output_type": "stream",
          "name": "stdout",
          "text": [
            "Hello,World!\n"
          ]
        }
      ]
    },
    {
      "cell_type": "markdown",
      "source": [
        "2.8 Write a Python program that displays your name and age"
      ],
      "metadata": {
        "id": "tsAlqGvmOyPd"
      }
    },
    {
      "cell_type": "code",
      "source": [
        "name = \"Taskeen Kaur\"\n",
        "age = 24\n",
        "print(\"My name is Taskeen Kaur\")\n",
        "print(\"I am 24 years old\")"
      ],
      "metadata": {
        "colab": {
          "base_uri": "https://localhost:8080/"
        },
        "id": "bxGDcXMvO5ei",
        "outputId": "ac745a65-91cd-4185-b237-0148a8b72a03"
      },
      "execution_count": null,
      "outputs": [
        {
          "output_type": "stream",
          "name": "stdout",
          "text": [
            "My name is Taskeen Kaur\n",
            "I am 24 years old\n"
          ]
        }
      ]
    },
    {
      "cell_type": "markdown",
      "source": [
        "3. Write code to print all the pre-defined keywords in Python using the keyword library."
      ],
      "metadata": {
        "id": "Udo2aik5PvGD"
      }
    },
    {
      "cell_type": "code",
      "source": [
        "import keyword\n",
        "\n",
        "# Print all python keywords\n",
        "print(\"Python keywords:\")\n",
        "for kw in keyword.kwlist:\n",
        "  print(kw)"
      ],
      "metadata": {
        "colab": {
          "base_uri": "https://localhost:8080/"
        },
        "id": "7YU1AK0XP4Pq",
        "outputId": "791f2437-cbe7-4ca0-b8df-7848a95b0ff7"
      },
      "execution_count": null,
      "outputs": [
        {
          "output_type": "stream",
          "name": "stdout",
          "text": [
            "Python keywords:\n",
            "False\n",
            "None\n",
            "True\n",
            "and\n",
            "as\n",
            "assert\n",
            "async\n",
            "await\n",
            "break\n",
            "class\n",
            "continue\n",
            "def\n",
            "del\n",
            "elif\n",
            "else\n",
            "except\n",
            "finally\n",
            "for\n",
            "from\n",
            "global\n",
            "if\n",
            "import\n",
            "in\n",
            "is\n",
            "lambda\n",
            "nonlocal\n",
            "not\n",
            "or\n",
            "pass\n",
            "raise\n",
            "return\n",
            "try\n",
            "while\n",
            "with\n",
            "yield\n"
          ]
        }
      ]
    },
    {
      "cell_type": "markdown",
      "source": [
        "4.Write a program that checks if a given word is a Python keyword."
      ],
      "metadata": {
        "id": "nO5qe81QQ7c8"
      }
    },
    {
      "cell_type": "code",
      "source": [
        "import keyword\n",
        "\n",
        "# Get input from the user\n",
        "word = input(\"Enter a word: \")\n",
        "\n",
        "# Check if it's a Python keyword\n",
        "if keyword.iskeyword(word):\n",
        "    print(f\"'{word}' is a Python keyword.\")\n",
        "else:\n",
        "    print(f\"'{word}' is NOT a Python keyword.\")"
      ],
      "metadata": {
        "colab": {
          "base_uri": "https://localhost:8080/"
        },
        "id": "INJf9ERSgcGe",
        "outputId": "185489e7-4106-42f8-9dd8-8252a9aec2ad"
      },
      "execution_count": null,
      "outputs": [
        {
          "output_type": "stream",
          "name": "stdout",
          "text": [
            "Enter a word: def\n",
            "'def' is a Python keyword.\n"
          ]
        }
      ]
    },
    {
      "cell_type": "code",
      "source": [
        "5. Create a list and tuple in Python, and demonstrate how attempting to change an element works differently for each ."
      ],
      "metadata": {
        "colab": {
          "base_uri": "https://localhost:8080/",
          "height": 106
        },
        "id": "hCopAOhgUHIi",
        "outputId": "92c0f7c7-307e-4513-db90-2c26c390b313"
      },
      "execution_count": null,
      "outputs": [
        {
          "output_type": "error",
          "ename": "SyntaxError",
          "evalue": "invalid syntax (<ipython-input-21-7a1899c66776>, line 1)",
          "traceback": [
            "\u001b[0;36m  File \u001b[0;32m\"<ipython-input-21-7a1899c66776>\"\u001b[0;36m, line \u001b[0;32m1\u001b[0m\n\u001b[0;31m    5. Create a list and tuple in Python, and demonstrate how attempting to change an element works differently for each .\u001b[0m\n\u001b[0m       ^\u001b[0m\n\u001b[0;31mSyntaxError\u001b[0m\u001b[0;31m:\u001b[0m invalid syntax\n"
          ]
        }
      ]
    },
    {
      "cell_type": "code",
      "source": [
        "# List (mutable)\n",
        "my_list = [10,20,30]\n",
        "\n",
        "# Tuple (immutable)\n",
        "my_tuple = (10,20,30)\n",
        "\n",
        "my_list[1] = 99\n",
        "print(\"Modified list:\",my_list)"
      ],
      "metadata": {
        "colab": {
          "base_uri": "https://localhost:8080/"
        },
        "id": "1YRePQAtX_-O",
        "outputId": "2bd85311-398b-41cc-81f6-16581930edd0"
      },
      "execution_count": null,
      "outputs": [
        {
          "output_type": "stream",
          "name": "stdout",
          "text": [
            "Modified list: [10, 99, 30]\n"
          ]
        }
      ]
    },
    {
      "cell_type": "markdown",
      "source": [],
      "metadata": {
        "id": "E5UQ5D4AXfgF"
      }
    },
    {
      "cell_type": "code",
      "source": [
        "my_tuple[1] = 99"
      ],
      "metadata": {
        "colab": {
          "base_uri": "https://localhost:8080/",
          "height": 141
        },
        "id": "cQX5g-FlbtUC",
        "outputId": "8e4f60e6-8675-48a2-d51b-795846dc8daf"
      },
      "execution_count": null,
      "outputs": [
        {
          "output_type": "error",
          "ename": "TypeError",
          "evalue": "'tuple' object does not support item assignment",
          "traceback": [
            "\u001b[0;31m---------------------------------------------------------------------------\u001b[0m",
            "\u001b[0;31mTypeError\u001b[0m                                 Traceback (most recent call last)",
            "\u001b[0;32m<ipython-input-13-0f927aac1466>\u001b[0m in \u001b[0;36m<cell line: 0>\u001b[0;34m()\u001b[0m\n\u001b[0;32m----> 1\u001b[0;31m \u001b[0mmy_tuple\u001b[0m\u001b[0;34m[\u001b[0m\u001b[0;36m1\u001b[0m\u001b[0;34m]\u001b[0m \u001b[0;34m=\u001b[0m \u001b[0;36m99\u001b[0m\u001b[0;34m\u001b[0m\u001b[0;34m\u001b[0m\u001b[0m\n\u001b[0m",
            "\u001b[0;31mTypeError\u001b[0m: 'tuple' object does not support item assignment"
          ]
        }
      ]
    },
    {
      "cell_type": "markdown",
      "source": [
        "6. Write a function to demonstrate the behavior of mutable and immutable arguments"
      ],
      "metadata": {
        "id": "xImzmgbVb-IF"
      }
    },
    {
      "cell_type": "markdown",
      "source": [],
      "metadata": {
        "id": "hEG9_q3Vb8XK"
      }
    },
    {
      "cell_type": "code",
      "source": [
        "def modify_values(a, b):\n",
        "    a += 10         # Try modifying the integer (immutable)\n",
        "    b.append(4)      # Try modifying the list (mutable)\n",
        "    print(\"Inside function - a:\", a)\n",
        "    print(\"Inside function - b:\", b)\n",
        "\n",
        "# Immutable argument (int)\n",
        "x = 5\n",
        "\n",
        "# Mutable argument (list)\n",
        "y = [1, 2, 3]\n",
        "\n",
        "modify_values(x, y)\n",
        "\n",
        "print(\"Outside function - x:\", x)\n",
        "print(\"Outside function - y:\", y)"
      ],
      "metadata": {
        "colab": {
          "base_uri": "https://localhost:8080/"
        },
        "id": "J3y22BzrgCAO",
        "outputId": "cf086239-0205-4aa8-81b7-d26cea5296a7"
      },
      "execution_count": null,
      "outputs": [
        {
          "output_type": "stream",
          "name": "stdout",
          "text": [
            "Inside function - a: 15\n",
            "Inside function - b: [1, 2, 3, 4]\n",
            "Outside function - x: 5\n",
            "Outside function - y: [1, 2, 3, 4]\n"
          ]
        }
      ]
    },
    {
      "cell_type": "markdown",
      "source": [
        "7. Write a program that performs basic arithmetic operations on two user-input numbers."
      ],
      "metadata": {
        "id": "JZPW79tbgsgv"
      }
    },
    {
      "cell_type": "code",
      "source": [
        " def add(x, y):\n",
        "    \"\"\"Performs addition of two numbers.\"\"\"\n",
        "    return x + y\n",
        "\n",
        "def subtract(x, y):\n",
        "    \"\"\"Performs subtraction of two numbers.\"\"\"\n",
        "    return x - y\n",
        "\n",
        "def multiply(x, y):\n",
        "    \"\"\"Performs multiplication of two numbers.\"\"\"\n",
        "    return x * y\n",
        "\n",
        "def divide(x, y):\n",
        "    \"\"\"Performs division of two numbers. Handles division by zero.\"\"\"\n",
        "    if y == 0:\n",
        "        return \"Error: Cannot divide by zero.\"\n",
        "    else:\n",
        "        return x / y\n",
        "\n",
        "# Get input from the user\n",
        "num1 = float(input(\"Enter the first number: \"))\n",
        "num2 = float(input(\"Enter the second number: \"))\n",
        "\n",
        " # Perform and display the operations\n",
        "print(\"Addition:\", add(num1, num2))\n",
        "print(\"Subtraction:\", subtract(num1, num2))\n",
        "print(\"Multiplication:\", multiply(num1, num2))\n",
        "print(\"Division:\", divide(num1, num2))"
      ],
      "metadata": {
        "colab": {
          "base_uri": "https://localhost:8080/"
        },
        "id": "P2IDq0gggz6O",
        "outputId": "ac9aab0d-5c2e-4402-bcfc-0a6ae7b38b58"
      },
      "execution_count": null,
      "outputs": [
        {
          "output_type": "stream",
          "name": "stdout",
          "text": [
            "Enter the first number: 20\n",
            "Enter the second number: 30\n",
            "Addition: 50.0\n",
            "Subtraction: -10.0\n",
            "Multiplication: 600.0\n",
            "Division: 0.6666666666666666\n"
          ]
        }
      ]
    },
    {
      "cell_type": "markdown",
      "source": [
        "8.Write a program to demonstrate the use of logical operators."
      ],
      "metadata": {
        "id": "fIDyomBtiFHn"
      }
    },
    {
      "cell_type": "code",
      "source": [
        "# Get input from the user\n",
        "age = int(input(\"Enter your age: \"))\n",
        "has_ticket = input(\"Do you have a ticket? (yes/no): \").lower()\n",
        "\n",
        "# Convert ticket answer to boolean\n",
        "has_ticket = has_ticket == \"yes\"\n",
        "\n",
        "# Using logical operators\n",
        "print(\"\\nChecking conditions using logical operators...\\n\")\n",
        "\n",
        "# AND operator\n",
        "if age >= 18 and has_ticket:\n",
        "    print(\"Access granted: You are 18+ and have a ticket.\")\n",
        "\n",
        "# OR operator\n",
        "elif age >= 18 or has_ticket:\n",
        "    print(\"Partial access: Either you're 18+ or have a ticket.\")\n",
        "\n",
        "# NOT operator\n",
        "elif not has_ticket:\n",
        "    print(\"Access denied: You do not have a ticket.\")\n",
        "\n",
        "else:\n",
        "    print(\"Access denied: Conditions not met.\")\n"
      ],
      "metadata": {
        "colab": {
          "base_uri": "https://localhost:8080/"
        },
        "id": "lUrX3s55iNea",
        "outputId": "7a8a274b-57ba-4cbe-f7c5-b15d21039e56"
      },
      "execution_count": null,
      "outputs": [
        {
          "output_type": "stream",
          "name": "stdout",
          "text": [
            "Enter your age: 24\n",
            "Do you have a ticket? (yes/no): yes\n",
            "\n",
            "Checking conditions using logical operators...\n",
            "\n",
            "Access granted: You are 18+ and have a ticket.\n"
          ]
        }
      ]
    },
    {
      "cell_type": "markdown",
      "source": [
        "9.. Write a Python program to convert user input from string to integer, float, and boolean types."
      ],
      "metadata": {
        "id": "yZHpldZAj0ra"
      }
    },
    {
      "cell_type": "code",
      "source": [
        "# Get user input as a string\n",
        "user_input = input(\"Enter a value: \")\n",
        "\n",
        "# Convert to integer\n",
        "try:\n",
        "    int_value = int(user_input)\n",
        "    print(\"Integer:\", int_value, \"| Type:\", type(int_value))\n",
        "except ValueError:\n",
        "    print(\"Cannot convert to Integer.\")\n",
        "\n",
        "# Convert to float\n",
        "try:\n",
        "    float_value = float(user_input)\n",
        "    print(\"Float:\", float_value, \"| Type:\", type(float_value))\n",
        "except ValueError:\n",
        "    print(\"Cannot convert to Float.\")\n",
        "\n",
        "# Convert to boolean\n",
        "# Any non-empty string is True, empty string is False\n",
        "bool_value = bool(user_input)\n",
        "print(\"Boolean:\", bool_value, \"| Type:\", type(bool_value))"
      ],
      "metadata": {
        "colab": {
          "base_uri": "https://localhost:8080/"
        },
        "id": "8GpFK1h-j7Ag",
        "outputId": "c48eb38f-d064-42c4-f4d2-44d3e62ba08d"
      },
      "execution_count": null,
      "outputs": [
        {
          "output_type": "stream",
          "name": "stdout",
          "text": [
            "Enter a value: 50\n",
            "Integer: 50 | Type: <class 'int'>\n",
            "Float: 50.0 | Type: <class 'float'>\n",
            "Boolean: True | Type: <class 'bool'>\n"
          ]
        }
      ]
    },
    {
      "cell_type": "markdown",
      "source": [
        "10. Write code to demonstrate type casting with list elements"
      ],
      "metadata": {
        "id": "wF5K5uS4kg4K"
      }
    },
    {
      "cell_type": "code",
      "source": [
        "# List with string representations of numbers\n",
        "str_list = [\"10\", \"20\", \"30\", \"40\"]\n",
        "\n",
        "print(\"Original list (strings):\", str_list)\n",
        "\n",
        "# Convert string elements to integers\n",
        "int_list = [int(item) for item in str_list]\n",
        "print(\"Converted to integers:\", int_list)\n",
        "\n",
        "# Convert to floats\n",
        "float_list = [float(item) for item in str_list]\n",
        "print(\"Converted to floats:\", float_list)\n",
        "\n",
        "# Convert to booleans\n",
        "bool_list = [bool(item) for item in str_list]\n",
        "print(\"Converted to booleans:\", bool_list)"
      ],
      "metadata": {
        "colab": {
          "base_uri": "https://localhost:8080/"
        },
        "id": "qvQ6EDWOkoNw",
        "outputId": "f814dc5d-d088-480a-ca5e-ec8622ef8bc3"
      },
      "execution_count": null,
      "outputs": [
        {
          "output_type": "stream",
          "name": "stdout",
          "text": [
            "Original list (strings): ['10', '20', '30', '40']\n",
            "Converted to integers: [10, 20, 30, 40]\n",
            "Converted to floats: [10.0, 20.0, 30.0, 40.0]\n",
            "Converted to booleans: [True, True, True, True]\n"
          ]
        }
      ]
    },
    {
      "cell_type": "markdown",
      "source": [
        "11. Write a program that checks if a number is positive, negative, or zero.\n",
        "\n"
      ],
      "metadata": {
        "id": "fhzZhwsBlANO"
      }
    },
    {
      "cell_type": "code",
      "source": [
        "# Get input from the user and convert to float\n",
        "num = float(input(\"Enter a number: \"))\n",
        "\n",
        "# Check conditions\n",
        "if num > 0:\n",
        "    print(\"The number is Positive.\")\n",
        "elif num < 0:\n",
        "    print(\"The number is Negative.\")\n",
        "else:\n",
        "    print(\"The number is Zero.\")"
      ],
      "metadata": {
        "colab": {
          "base_uri": "https://localhost:8080/"
        },
        "id": "a_qPYvc_lG-L",
        "outputId": "bca1aafe-eb8f-40c1-e902-7199901d85b9"
      },
      "execution_count": null,
      "outputs": [
        {
          "output_type": "stream",
          "name": "stdout",
          "text": [
            "Enter a number: 30\n",
            "The number is Positive.\n"
          ]
        }
      ]
    },
    {
      "cell_type": "code",
      "source": [
        "# Get input from the user and convert to float\n",
        "num = float(input(\"Enter a number: \"))\n",
        "\n",
        "# Check conditions\n",
        "if num > 0:\n",
        "    print(\"The number is Positive.\")\n",
        "elif num < 0:\n",
        "    print(\"The number is Negative.\")\n",
        "else:\n",
        "    print(\"The number is Zero.\")"
      ],
      "metadata": {
        "colab": {
          "base_uri": "https://localhost:8080/"
        },
        "id": "kMGWt2wOlYz-",
        "outputId": "890a4eb8-ff82-4d72-b2cb-449ddf80f2bd"
      },
      "execution_count": null,
      "outputs": [
        {
          "output_type": "stream",
          "name": "stdout",
          "text": [
            "Enter a number: -10\n",
            "The number is Negative.\n"
          ]
        }
      ]
    },
    {
      "cell_type": "code",
      "source": [
        "# Get input from the user and convert to float\n",
        "num = float(input(\"Enter a number: \"))\n",
        "\n",
        "# Check conditions\n",
        "if num > 0:\n",
        "    print(\"The number is Positive.\")\n",
        "elif num < 0:\n",
        "    print(\"The number is Negative.\")\n",
        "else:\n",
        "    print(\"The number is Zero.\")"
      ],
      "metadata": {
        "colab": {
          "base_uri": "https://localhost:8080/"
        },
        "id": "1cuJGvA8lq9T",
        "outputId": "331df74b-8d30-498d-ab6f-5f9caf7d9b2a"
      },
      "execution_count": null,
      "outputs": [
        {
          "output_type": "stream",
          "name": "stdout",
          "text": [
            "Enter a number: 0\n",
            "The number is Zero.\n"
          ]
        }
      ]
    },
    {
      "cell_type": "markdown",
      "source": [
        "12.. Write a for loop to print numbers from 1 to 10."
      ],
      "metadata": {
        "id": "ByjMlfEMmHVT"
      }
    },
    {
      "cell_type": "code",
      "source": [
        "for i in range(1, 11):\n",
        "    print(i)"
      ],
      "metadata": {
        "colab": {
          "base_uri": "https://localhost:8080/"
        },
        "id": "Bh7cDQQKmOfb",
        "outputId": "a0a0275c-c607-461d-f449-240252ad4311"
      },
      "execution_count": null,
      "outputs": [
        {
          "output_type": "stream",
          "name": "stdout",
          "text": [
            "1\n",
            "2\n",
            "3\n",
            "4\n",
            "5\n",
            "6\n",
            "7\n",
            "8\n",
            "9\n",
            "10\n"
          ]
        }
      ]
    },
    {
      "cell_type": "markdown",
      "source": [
        "13.. Write a Python program to find the sum of all even numbers between 1 and 50."
      ],
      "metadata": {
        "id": "g8Dv33Rhmu8z"
      }
    },
    {
      "cell_type": "code",
      "source": [
        "# Initialize sum\n",
        "even_sum = 0\n",
        "\n",
        "# Loop through numbers from 1 to 50\n",
        "for i in range(1, 51):\n",
        "    if i % 2 == 0:\n",
        "        even_sum += i\n",
        "\n",
        "# Print the result\n",
        "print(\"Sum of even numbers from 1 to 50 is:\", even_sum)"
      ],
      "metadata": {
        "colab": {
          "base_uri": "https://localhost:8080/"
        },
        "id": "YcOngPkWm0Td",
        "outputId": "d8b8803b-e044-41ec-f9c0-e40b860a4f47"
      },
      "execution_count": null,
      "outputs": [
        {
          "output_type": "stream",
          "name": "stdout",
          "text": [
            "Sum of even numbers from 1 to 50 is: 650\n"
          ]
        }
      ]
    },
    {
      "cell_type": "markdown",
      "source": [
        "14.Write a program to reverse a string using a while loop."
      ],
      "metadata": {
        "id": "UTEER5IRnHtO"
      }
    },
    {
      "cell_type": "code",
      "source": [
        "# Get input from the user\n",
        "text = input(\"Enter a string: \")\n",
        "\n",
        "# Initialize variables\n",
        "reversed_text = \"\"\n",
        "index = len(text) - 1\n",
        "\n",
        "# Use while loop to reverse the string\n",
        "while index >= 0:\n",
        "    reversed_text += text[index]\n",
        "    index -= 1\n",
        "\n",
        "# Print the reversed string\n",
        "print(\"Reversed string:\", reversed_text)"
      ],
      "metadata": {
        "colab": {
          "base_uri": "https://localhost:8080/"
        },
        "id": "8Vvq1hOPnPoj",
        "outputId": "0e9a7ce7-f1e6-4ba6-b0d5-bd0da92d35c3"
      },
      "execution_count": null,
      "outputs": [
        {
          "output_type": "stream",
          "name": "stdout",
          "text": [
            "Enter a string: test\n",
            "Reversed string: tset\n"
          ]
        }
      ]
    },
    {
      "cell_type": "markdown",
      "source": [
        "15. Write a Python program to calculate the factorial of a number provided by the user using a while loop"
      ],
      "metadata": {
        "id": "lF42Ttz_nmGR"
      }
    },
    {
      "cell_type": "code",
      "source": [
        "# Get input from the user\n",
        "num = int(input(\"Enter a number to find its factorial: \"))\n",
        "\n",
        "# Initialize factorial result\n",
        "factorial = 1\n",
        "\n",
        "# Check for valid input\n",
        "if num < 0:\n",
        "    print(\"Factorial is not defined for negative numbers.\")\n",
        "else:\n",
        "    i = 1\n",
        "    while i <= num:\n",
        "        factorial *= i\n",
        "        i += 1\n",
        "    print(f\"The factorial of {num} is {factorial}\")"
      ],
      "metadata": {
        "colab": {
          "base_uri": "https://localhost:8080/"
        },
        "id": "J-3kLbM-nrRZ",
        "outputId": "068e0518-4e30-4089-e417-1fa7f796bdda"
      },
      "execution_count": null,
      "outputs": [
        {
          "output_type": "stream",
          "name": "stdout",
          "text": [
            "Enter a number to find its factorial: 400\n",
            "The factorial of 400 is 64034522846623895262347970319503005850702583026002959458684445942802397169186831436278478647463264676294350575035856810848298162883517435228961988646802997937341654150838162426461942352307046244325015114448670890662773914918117331955996440709549671345290477020322434911210797593280795101545372667251627877890009349763765710326350331533965349868386831339352024373788157786791506311858702618270169819740062983025308591298346162272304558339520759611505302236086810433297255194852674432232438669948422404232599805551610635942376961399231917134063858996537970147827206606320217379472010321356624613809077942304597360699567595836096158715129913822286578579549361617654480453222007825818400848436415591229454275384803558374518022675900061399560145595206127211192918105032491008000000000000000000000000000000000000000000000000000000000000000000000000000000000000000000000000000\n"
          ]
        }
      ]
    }
  ]
}